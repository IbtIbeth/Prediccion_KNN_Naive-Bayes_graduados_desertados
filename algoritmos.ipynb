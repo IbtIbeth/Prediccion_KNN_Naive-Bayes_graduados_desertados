{
  "cells": [
    {
      "cell_type": "markdown",
      "metadata": {
        "id": "view-in-github",
        "colab_type": "text"
      },
      "source": [
        "<a href=\"https://colab.research.google.com/github/IbtIbeth/Prediccion_KNN_Naive-Bayes_graduados_desertados/blob/main/algoritmos.ipynb\" target=\"_parent\"><img src=\"https://colab.research.google.com/assets/colab-badge.svg\" alt=\"Open In Colab\"/></a>"
      ]
    },
    {
      "cell_type": "code",
      "execution_count": null,
      "id": "imposed-programming",
      "metadata": {
        "id": "imposed-programming"
      },
      "outputs": [],
      "source": [
        "import pandas as pd\n",
        "import numpy as np\n",
        "\n",
        "#Libreria para separar los datos\n",
        "from sklearn.model_selection import train_test_split\n",
        "\n",
        "#Libreria para utilizar knn\n",
        "from sklearn.neighbors import KNeighborsClassifier\n",
        "\n",
        "\n",
        "#Librerias para obtener los reportes\n",
        "from sklearn.metrics import classification_report\n",
        "from sklearn.metrics import classification_report, confusion_matrix, accuracy_score\n",
        "\n",
        "#Libreria para graficar\n",
        "import matplotlib.pyplot as plt\n",
        "\n",
        "import warnings\n",
        "warnings.filterwarnings('ignore')"
      ]
    },
    {
      "cell_type": "code",
      "execution_count": null,
      "id": "horizontal-substitute",
      "metadata": {
        "id": "horizontal-substitute"
      },
      "outputs": [],
      "source": [
        "df = pd.read_csv(\"Dropout_Academic Success - Sheet1.csv\")"
      ]
    },
    {
      "cell_type": "code",
      "execution_count": null,
      "id": "distinguished-shade",
      "metadata": {
        "id": "distinguished-shade",
        "outputId": "e28ca0c9-9bd7-44c2-aa73-8cee7213af97"
      },
      "outputs": [
        {
          "data": {
            "text/html": [
              "<div>\n",
              "<style scoped>\n",
              "    .dataframe tbody tr th:only-of-type {\n",
              "        vertical-align: middle;\n",
              "    }\n",
              "\n",
              "    .dataframe tbody tr th {\n",
              "        vertical-align: top;\n",
              "    }\n",
              "\n",
              "    .dataframe thead th {\n",
              "        text-align: right;\n",
              "    }\n",
              "</style>\n",
              "<table border=\"1\" class=\"dataframe\">\n",
              "  <thead>\n",
              "    <tr style=\"text-align: right;\">\n",
              "      <th></th>\n",
              "      <th>Marital status</th>\n",
              "      <th>Application mode</th>\n",
              "      <th>Application order</th>\n",
              "      <th>Course</th>\n",
              "      <th>Daytime/evening attendance</th>\n",
              "      <th>Previous qualification</th>\n",
              "      <th>Previous qualification (grade)</th>\n",
              "      <th>Nacionality</th>\n",
              "      <th>Mother's qualification</th>\n",
              "      <th>Father's qualification</th>\n",
              "      <th>...</th>\n",
              "      <th>Curricular units 2nd sem (credited)</th>\n",
              "      <th>Curricular units 2nd sem (enrolled)</th>\n",
              "      <th>Curricular units 2nd sem (evaluations)</th>\n",
              "      <th>Curricular units 2nd sem (approved)</th>\n",
              "      <th>Curricular units 2nd sem (grade)</th>\n",
              "      <th>Curricular units 2nd sem (without evaluations)</th>\n",
              "      <th>Unemployment rate</th>\n",
              "      <th>Inflation rate</th>\n",
              "      <th>GDP</th>\n",
              "      <th>Target</th>\n",
              "    </tr>\n",
              "  </thead>\n",
              "  <tbody>\n",
              "    <tr>\n",
              "      <th>0</th>\n",
              "      <td>1</td>\n",
              "      <td>17</td>\n",
              "      <td>5</td>\n",
              "      <td>171</td>\n",
              "      <td>1</td>\n",
              "      <td>1</td>\n",
              "      <td>122.0</td>\n",
              "      <td>1</td>\n",
              "      <td>19</td>\n",
              "      <td>12</td>\n",
              "      <td>...</td>\n",
              "      <td>0</td>\n",
              "      <td>0</td>\n",
              "      <td>0</td>\n",
              "      <td>0</td>\n",
              "      <td>0.000000</td>\n",
              "      <td>0</td>\n",
              "      <td>10.8</td>\n",
              "      <td>1.4</td>\n",
              "      <td>1.74</td>\n",
              "      <td>Dropout</td>\n",
              "    </tr>\n",
              "    <tr>\n",
              "      <th>1</th>\n",
              "      <td>1</td>\n",
              "      <td>15</td>\n",
              "      <td>1</td>\n",
              "      <td>9254</td>\n",
              "      <td>1</td>\n",
              "      <td>1</td>\n",
              "      <td>160.0</td>\n",
              "      <td>1</td>\n",
              "      <td>1</td>\n",
              "      <td>3</td>\n",
              "      <td>...</td>\n",
              "      <td>0</td>\n",
              "      <td>6</td>\n",
              "      <td>6</td>\n",
              "      <td>6</td>\n",
              "      <td>13.666667</td>\n",
              "      <td>0</td>\n",
              "      <td>13.9</td>\n",
              "      <td>-0.3</td>\n",
              "      <td>0.79</td>\n",
              "      <td>Graduate</td>\n",
              "    </tr>\n",
              "    <tr>\n",
              "      <th>2</th>\n",
              "      <td>1</td>\n",
              "      <td>1</td>\n",
              "      <td>5</td>\n",
              "      <td>9070</td>\n",
              "      <td>1</td>\n",
              "      <td>1</td>\n",
              "      <td>122.0</td>\n",
              "      <td>1</td>\n",
              "      <td>37</td>\n",
              "      <td>37</td>\n",
              "      <td>...</td>\n",
              "      <td>0</td>\n",
              "      <td>6</td>\n",
              "      <td>0</td>\n",
              "      <td>0</td>\n",
              "      <td>0.000000</td>\n",
              "      <td>0</td>\n",
              "      <td>10.8</td>\n",
              "      <td>1.4</td>\n",
              "      <td>1.74</td>\n",
              "      <td>Dropout</td>\n",
              "    </tr>\n",
              "    <tr>\n",
              "      <th>3</th>\n",
              "      <td>1</td>\n",
              "      <td>17</td>\n",
              "      <td>2</td>\n",
              "      <td>9773</td>\n",
              "      <td>1</td>\n",
              "      <td>1</td>\n",
              "      <td>122.0</td>\n",
              "      <td>1</td>\n",
              "      <td>38</td>\n",
              "      <td>37</td>\n",
              "      <td>...</td>\n",
              "      <td>0</td>\n",
              "      <td>6</td>\n",
              "      <td>10</td>\n",
              "      <td>5</td>\n",
              "      <td>12.400000</td>\n",
              "      <td>0</td>\n",
              "      <td>9.4</td>\n",
              "      <td>-0.8</td>\n",
              "      <td>-3.12</td>\n",
              "      <td>Graduate</td>\n",
              "    </tr>\n",
              "    <tr>\n",
              "      <th>4</th>\n",
              "      <td>2</td>\n",
              "      <td>39</td>\n",
              "      <td>1</td>\n",
              "      <td>8014</td>\n",
              "      <td>0</td>\n",
              "      <td>1</td>\n",
              "      <td>100.0</td>\n",
              "      <td>1</td>\n",
              "      <td>37</td>\n",
              "      <td>38</td>\n",
              "      <td>...</td>\n",
              "      <td>0</td>\n",
              "      <td>6</td>\n",
              "      <td>6</td>\n",
              "      <td>6</td>\n",
              "      <td>13.000000</td>\n",
              "      <td>0</td>\n",
              "      <td>13.9</td>\n",
              "      <td>-0.3</td>\n",
              "      <td>0.79</td>\n",
              "      <td>Graduate</td>\n",
              "    </tr>\n",
              "    <tr>\n",
              "      <th>...</th>\n",
              "      <td>...</td>\n",
              "      <td>...</td>\n",
              "      <td>...</td>\n",
              "      <td>...</td>\n",
              "      <td>...</td>\n",
              "      <td>...</td>\n",
              "      <td>...</td>\n",
              "      <td>...</td>\n",
              "      <td>...</td>\n",
              "      <td>...</td>\n",
              "      <td>...</td>\n",
              "      <td>...</td>\n",
              "      <td>...</td>\n",
              "      <td>...</td>\n",
              "      <td>...</td>\n",
              "      <td>...</td>\n",
              "      <td>...</td>\n",
              "      <td>...</td>\n",
              "      <td>...</td>\n",
              "      <td>...</td>\n",
              "      <td>...</td>\n",
              "    </tr>\n",
              "    <tr>\n",
              "      <th>4419</th>\n",
              "      <td>1</td>\n",
              "      <td>1</td>\n",
              "      <td>6</td>\n",
              "      <td>9773</td>\n",
              "      <td>1</td>\n",
              "      <td>1</td>\n",
              "      <td>125.0</td>\n",
              "      <td>1</td>\n",
              "      <td>1</td>\n",
              "      <td>1</td>\n",
              "      <td>...</td>\n",
              "      <td>0</td>\n",
              "      <td>6</td>\n",
              "      <td>8</td>\n",
              "      <td>5</td>\n",
              "      <td>12.666667</td>\n",
              "      <td>0</td>\n",
              "      <td>15.5</td>\n",
              "      <td>2.8</td>\n",
              "      <td>-4.06</td>\n",
              "      <td>Graduate</td>\n",
              "    </tr>\n",
              "    <tr>\n",
              "      <th>4420</th>\n",
              "      <td>1</td>\n",
              "      <td>1</td>\n",
              "      <td>2</td>\n",
              "      <td>9773</td>\n",
              "      <td>1</td>\n",
              "      <td>1</td>\n",
              "      <td>120.0</td>\n",
              "      <td>105</td>\n",
              "      <td>1</td>\n",
              "      <td>1</td>\n",
              "      <td>...</td>\n",
              "      <td>0</td>\n",
              "      <td>6</td>\n",
              "      <td>6</td>\n",
              "      <td>2</td>\n",
              "      <td>11.000000</td>\n",
              "      <td>0</td>\n",
              "      <td>11.1</td>\n",
              "      <td>0.6</td>\n",
              "      <td>2.02</td>\n",
              "      <td>Dropout</td>\n",
              "    </tr>\n",
              "    <tr>\n",
              "      <th>4421</th>\n",
              "      <td>1</td>\n",
              "      <td>1</td>\n",
              "      <td>1</td>\n",
              "      <td>9500</td>\n",
              "      <td>1</td>\n",
              "      <td>1</td>\n",
              "      <td>154.0</td>\n",
              "      <td>1</td>\n",
              "      <td>37</td>\n",
              "      <td>37</td>\n",
              "      <td>...</td>\n",
              "      <td>0</td>\n",
              "      <td>8</td>\n",
              "      <td>9</td>\n",
              "      <td>1</td>\n",
              "      <td>13.500000</td>\n",
              "      <td>0</td>\n",
              "      <td>13.9</td>\n",
              "      <td>-0.3</td>\n",
              "      <td>0.79</td>\n",
              "      <td>Dropout</td>\n",
              "    </tr>\n",
              "    <tr>\n",
              "      <th>4422</th>\n",
              "      <td>1</td>\n",
              "      <td>1</td>\n",
              "      <td>1</td>\n",
              "      <td>9147</td>\n",
              "      <td>1</td>\n",
              "      <td>1</td>\n",
              "      <td>180.0</td>\n",
              "      <td>1</td>\n",
              "      <td>37</td>\n",
              "      <td>37</td>\n",
              "      <td>...</td>\n",
              "      <td>0</td>\n",
              "      <td>5</td>\n",
              "      <td>6</td>\n",
              "      <td>5</td>\n",
              "      <td>12.000000</td>\n",
              "      <td>0</td>\n",
              "      <td>9.4</td>\n",
              "      <td>-0.8</td>\n",
              "      <td>-3.12</td>\n",
              "      <td>Graduate</td>\n",
              "    </tr>\n",
              "    <tr>\n",
              "      <th>4423</th>\n",
              "      <td>1</td>\n",
              "      <td>10</td>\n",
              "      <td>1</td>\n",
              "      <td>9773</td>\n",
              "      <td>1</td>\n",
              "      <td>1</td>\n",
              "      <td>152.0</td>\n",
              "      <td>22</td>\n",
              "      <td>38</td>\n",
              "      <td>37</td>\n",
              "      <td>...</td>\n",
              "      <td>0</td>\n",
              "      <td>6</td>\n",
              "      <td>6</td>\n",
              "      <td>6</td>\n",
              "      <td>13.000000</td>\n",
              "      <td>0</td>\n",
              "      <td>12.7</td>\n",
              "      <td>3.7</td>\n",
              "      <td>-1.70</td>\n",
              "      <td>Graduate</td>\n",
              "    </tr>\n",
              "  </tbody>\n",
              "</table>\n",
              "<p>4424 rows × 37 columns</p>\n",
              "</div>"
            ],
            "text/plain": [
              "      Marital status  Application mode  Application order  Course  \\\n",
              "0                  1                17                  5     171   \n",
              "1                  1                15                  1    9254   \n",
              "2                  1                 1                  5    9070   \n",
              "3                  1                17                  2    9773   \n",
              "4                  2                39                  1    8014   \n",
              "...              ...               ...                ...     ...   \n",
              "4419               1                 1                  6    9773   \n",
              "4420               1                 1                  2    9773   \n",
              "4421               1                 1                  1    9500   \n",
              "4422               1                 1                  1    9147   \n",
              "4423               1                10                  1    9773   \n",
              "\n",
              "      Daytime/evening attendance  Previous qualification  \\\n",
              "0                              1                       1   \n",
              "1                              1                       1   \n",
              "2                              1                       1   \n",
              "3                              1                       1   \n",
              "4                              0                       1   \n",
              "...                          ...                     ...   \n",
              "4419                           1                       1   \n",
              "4420                           1                       1   \n",
              "4421                           1                       1   \n",
              "4422                           1                       1   \n",
              "4423                           1                       1   \n",
              "\n",
              "      Previous qualification (grade)  Nacionality  Mother's qualification  \\\n",
              "0                              122.0            1                      19   \n",
              "1                              160.0            1                       1   \n",
              "2                              122.0            1                      37   \n",
              "3                              122.0            1                      38   \n",
              "4                              100.0            1                      37   \n",
              "...                              ...          ...                     ...   \n",
              "4419                           125.0            1                       1   \n",
              "4420                           120.0          105                       1   \n",
              "4421                           154.0            1                      37   \n",
              "4422                           180.0            1                      37   \n",
              "4423                           152.0           22                      38   \n",
              "\n",
              "      Father's qualification  ...  Curricular units 2nd sem (credited)  \\\n",
              "0                         12  ...                                    0   \n",
              "1                          3  ...                                    0   \n",
              "2                         37  ...                                    0   \n",
              "3                         37  ...                                    0   \n",
              "4                         38  ...                                    0   \n",
              "...                      ...  ...                                  ...   \n",
              "4419                       1  ...                                    0   \n",
              "4420                       1  ...                                    0   \n",
              "4421                      37  ...                                    0   \n",
              "4422                      37  ...                                    0   \n",
              "4423                      37  ...                                    0   \n",
              "\n",
              "      Curricular units 2nd sem (enrolled)  \\\n",
              "0                                       0   \n",
              "1                                       6   \n",
              "2                                       6   \n",
              "3                                       6   \n",
              "4                                       6   \n",
              "...                                   ...   \n",
              "4419                                    6   \n",
              "4420                                    6   \n",
              "4421                                    8   \n",
              "4422                                    5   \n",
              "4423                                    6   \n",
              "\n",
              "      Curricular units 2nd sem (evaluations)  \\\n",
              "0                                          0   \n",
              "1                                          6   \n",
              "2                                          0   \n",
              "3                                         10   \n",
              "4                                          6   \n",
              "...                                      ...   \n",
              "4419                                       8   \n",
              "4420                                       6   \n",
              "4421                                       9   \n",
              "4422                                       6   \n",
              "4423                                       6   \n",
              "\n",
              "      Curricular units 2nd sem (approved)  Curricular units 2nd sem (grade)  \\\n",
              "0                                       0                          0.000000   \n",
              "1                                       6                         13.666667   \n",
              "2                                       0                          0.000000   \n",
              "3                                       5                         12.400000   \n",
              "4                                       6                         13.000000   \n",
              "...                                   ...                               ...   \n",
              "4419                                    5                         12.666667   \n",
              "4420                                    2                         11.000000   \n",
              "4421                                    1                         13.500000   \n",
              "4422                                    5                         12.000000   \n",
              "4423                                    6                         13.000000   \n",
              "\n",
              "      Curricular units 2nd sem (without evaluations)  Unemployment rate  \\\n",
              "0                                                  0               10.8   \n",
              "1                                                  0               13.9   \n",
              "2                                                  0               10.8   \n",
              "3                                                  0                9.4   \n",
              "4                                                  0               13.9   \n",
              "...                                              ...                ...   \n",
              "4419                                               0               15.5   \n",
              "4420                                               0               11.1   \n",
              "4421                                               0               13.9   \n",
              "4422                                               0                9.4   \n",
              "4423                                               0               12.7   \n",
              "\n",
              "      Inflation rate   GDP    Target  \n",
              "0                1.4  1.74   Dropout  \n",
              "1               -0.3  0.79  Graduate  \n",
              "2                1.4  1.74   Dropout  \n",
              "3               -0.8 -3.12  Graduate  \n",
              "4               -0.3  0.79  Graduate  \n",
              "...              ...   ...       ...  \n",
              "4419             2.8 -4.06  Graduate  \n",
              "4420             0.6  2.02   Dropout  \n",
              "4421            -0.3  0.79   Dropout  \n",
              "4422            -0.8 -3.12  Graduate  \n",
              "4423             3.7 -1.70  Graduate  \n",
              "\n",
              "[4424 rows x 37 columns]"
            ]
          },
          "execution_count": 176,
          "metadata": {},
          "output_type": "execute_result"
        }
      ],
      "source": [
        "df"
      ]
    },
    {
      "cell_type": "code",
      "execution_count": null,
      "id": "surgical-malta",
      "metadata": {
        "id": "surgical-malta"
      },
      "outputs": [],
      "source": [
        "filtro = df['Target'] != 'Enrolled'\n",
        "df= df[filtro]"
      ]
    },
    {
      "cell_type": "code",
      "execution_count": null,
      "id": "clean-marijuana",
      "metadata": {
        "id": "clean-marijuana"
      },
      "outputs": [],
      "source": [
        "def normalizar(vector):\n",
        "    return [(x-min(vector))/(max(vector)-min(vector)) for x in vector]"
      ]
    },
    {
      "cell_type": "markdown",
      "id": "respected-greece",
      "metadata": {
        "id": "respected-greece"
      },
      "source": [
        "## KNN"
      ]
    },
    {
      "cell_type": "code",
      "execution_count": null,
      "id": "threatened-prayer",
      "metadata": {
        "id": "threatened-prayer"
      },
      "outputs": [],
      "source": [
        "X = df.drop(['Target', 'Course'], axis = 1)\n",
        "y = df.Target"
      ]
    },
    {
      "cell_type": "code",
      "execution_count": null,
      "id": "organizational-hormone",
      "metadata": {
        "id": "organizational-hormone"
      },
      "outputs": [],
      "source": [
        "#Normalizamos todas las columnas de X\n",
        "for x in X.columns.values:\n",
        "    X[x] = normalizar(X[x].astype(float))"
      ]
    },
    {
      "cell_type": "code",
      "execution_count": null,
      "id": "tutorial-worry",
      "metadata": {
        "id": "tutorial-worry"
      },
      "outputs": [],
      "source": [
        "from sklearn.model_selection import train_test_split\n",
        "X_train, X_test, y_train, y_test = train_test_split(X, y, test_size=0.20)"
      ]
    },
    {
      "cell_type": "code",
      "execution_count": null,
      "id": "exotic-projector",
      "metadata": {
        "id": "exotic-projector",
        "outputId": "942ac0cc-3d75-4606-8728-3a2da847916a"
      },
      "outputs": [
        {
          "data": {
            "text/plain": [
              "KNeighborsClassifier(n_neighbors=20)"
            ]
          },
          "execution_count": 221,
          "metadata": {},
          "output_type": "execute_result"
        }
      ],
      "source": [
        "classifier = KNeighborsClassifier(n_neighbors=20)\n",
        "classifier.fit(X_train, y_train)"
      ]
    },
    {
      "cell_type": "code",
      "execution_count": null,
      "id": "celtic-thesaurus",
      "metadata": {
        "id": "celtic-thesaurus"
      },
      "outputs": [],
      "source": [
        "y_pred = classifier.predict(X_test)"
      ]
    },
    {
      "cell_type": "code",
      "execution_count": null,
      "id": "differential-longer",
      "metadata": {
        "id": "differential-longer",
        "outputId": "bcb1ea83-8258-4454-ba5f-9b1bd32a8c33"
      },
      "outputs": [
        {
          "name": "stdout",
          "output_type": "stream",
          "text": [
            "[[193  77]\n",
            " [ 20 436]]\n",
            "              precision    recall  f1-score   support\n",
            "\n",
            "     Dropout       0.91      0.71      0.80       270\n",
            "    Graduate       0.85      0.96      0.90       456\n",
            "\n",
            "    accuracy                           0.87       726\n",
            "   macro avg       0.88      0.84      0.85       726\n",
            "weighted avg       0.87      0.87      0.86       726\n",
            "\n",
            "0.8663911845730028\n"
          ]
        }
      ],
      "source": [
        "print(confusion_matrix(y_test, y_pred))\n",
        "print(classification_report(y_test, y_pred))\n",
        "print(accuracy_score(y_test, y_pred))"
      ]
    },
    {
      "cell_type": "code",
      "execution_count": null,
      "id": "sweet-cemetery",
      "metadata": {
        "id": "sweet-cemetery"
      },
      "outputs": [],
      "source": [
        "error = []\n",
        "for i in range(1, 40):\n",
        "    knn = KNeighborsClassifier(n_neighbors=i)\n",
        "    knn.fit(X_train, y_train)\n",
        "    pred_i = knn.predict(X_test)\n",
        "    error.append(np.mean(pred_i != y_test))"
      ]
    },
    {
      "cell_type": "code",
      "execution_count": null,
      "id": "brave-christian",
      "metadata": {
        "id": "brave-christian",
        "outputId": "cd82d889-76a6-431d-d3b6-1959f312394c"
      },
      "outputs": [
        {
          "data": {
            "text/plain": [
              "Text(0, 0.5, 'Promedio del error')"
            ]
          },
          "execution_count": 226,
          "metadata": {},
          "output_type": "execute_result"
        },
        {
          "data": {
            "image/png": "[encoded data removed]",
            "text/plain": [
              "<Figure size 864x432 with 1 Axes>"
            ]
          },
          "metadata": {
            "needs_background": "light"
          },
          "output_type": "display_data"
        }
      ],
      "source": [
        "plt.figure(figsize=(12, 6))\n",
        "plt.plot(range(1, 40), error, color='blue', marker='.',\n",
        "         markerfacecolor='red', markersize=10)\n",
        "plt.title('Error Rate de K')\n",
        "plt.xlabel('Valor de K')\n",
        "plt.ylabel('Promedio del error')"
      ]
    },
    {
      "cell_type": "markdown",
      "id": "divided-royalty",
      "metadata": {
        "id": "divided-royalty"
      },
      "source": [
        "## Naive bayes"
      ]
    },
    {
      "cell_type": "code",
      "execution_count": null,
      "id": "worse-increase",
      "metadata": {
        "id": "worse-increase"
      },
      "outputs": [],
      "source": [
        "#Volvemos a declarar X porque la anterior estan todos los datos normalizados\n",
        "X = df.drop(['Target','Course'], axis = 1)\n",
        "y = df.Target"
      ]
    },
    {
      "cell_type": "code",
      "execution_count": null,
      "id": "balanced-junction",
      "metadata": {
        "id": "balanced-junction"
      },
      "outputs": [],
      "source": [
        "aux = X[['Previous qualification (grade)','Curricular units 2nd sem (grade)', 'Admission grade', \n",
        "   'Age at enrollment','Curricular units 1st sem (grade)','Curricular units 2nd sem (grade)',\n",
        "   'Curricular units 2nd sem (grade)']]"
      ]
    },
    {
      "cell_type": "code",
      "execution_count": null,
      "id": "worldwide-blair",
      "metadata": {
        "id": "worldwide-blair"
      },
      "outputs": [],
      "source": [
        "for x in aux.columns.values:\n",
        "    X[x] = normalizar(X[x].astype(float))"
      ]
    },
    {
      "cell_type": "code",
      "execution_count": null,
      "id": "bearing-cathedral",
      "metadata": {
        "id": "bearing-cathedral"
      },
      "outputs": [],
      "source": [
        "def discretizar(data,aux):\n",
        "    for column in aux:\n",
        "        data[column][data[column] < 0.20] = 0\n",
        "        data[column][(data[column] >= 0.20) & (data[column] < 0.40)] = 1\n",
        "        data[column][(data[column] >= 0.40) & (data[column] < 0.60)] = 2\n",
        "        data[column][(data[column] >= 0.60) & (data[column] < 0.80)] = 3\n",
        "        data[column][data[column] >= 80] = 4\n",
        "    return data"
      ]
    },
    {
      "cell_type": "code",
      "execution_count": null,
      "id": "simplified-jamaica",
      "metadata": {
        "id": "simplified-jamaica"
      },
      "outputs": [],
      "source": [
        "X = discretizar(X, aux.columns.values)"
      ]
    },
    {
      "cell_type": "code",
      "execution_count": null,
      "id": "stock-daughter",
      "metadata": {
        "id": "stock-daughter"
      },
      "outputs": [],
      "source": [
        "def Naive(df_,df2_,y):\n",
        "    \n",
        "    df_ = df_.reset_index(drop=True)\n",
        "    y = y.reset_index(drop=True)\n",
        "    clases = y.unique()\n",
        "    \n",
        "    for index, row in df2_.iterrows(): \n",
        "        prediccion = []\n",
        "        \n",
        "        for i,x in enumerate(clases):\n",
        "            li = y[y==x].index.tolist()\n",
        "            dfAux = df_.iloc[li]\n",
        "            \n",
        "            mult = 1\n",
        "            for n,c in enumerate(row):\n",
        "                \n",
        "                col = dfAux.iloc[:,n]\n",
        "                contador = col[col == c].count()\n",
        "                suavizar = len(df_.iloc[:,n].unique())\n",
        "                mult *= (contador + 1) / (len(col)+suavizar)\n",
        "        \n",
        "            prediccion.append(mult * ((len(li)+1)/(len(y)+len(y.unique()))))\n",
        "\n",
        "        df2_.loc[index,['clase']] = clases[prediccion.index(max(prediccion))]\n",
        "        \n",
        "    return df2_.clase"
      ]
    },
    {
      "cell_type": "code",
      "execution_count": null,
      "id": "twelve-serial",
      "metadata": {
        "id": "twelve-serial"
      },
      "outputs": [],
      "source": [
        "X_train, X_test, y_train, y_test = train_test_split(X, y, test_size=0.20)"
      ]
    },
    {
      "cell_type": "code",
      "execution_count": null,
      "id": "latin-answer",
      "metadata": {
        "id": "latin-answer"
      },
      "outputs": [],
      "source": [
        "pred = Naive(X_train,X_test,y_train)"
      ]
    },
    {
      "cell_type": "code",
      "execution_count": null,
      "id": "russian-specific",
      "metadata": {
        "id": "russian-specific",
        "outputId": "eb8e01b7-8817-4468-f088-0e6c9ac74822"
      },
      "outputs": [
        {
          "name": "stdout",
          "output_type": "stream",
          "text": [
            "              precision    recall  f1-score   support\n",
            "\n",
            "     Dropout       0.87      0.84      0.85       280\n",
            "    Graduate       0.90      0.92      0.91       446\n",
            "\n",
            "    accuracy                           0.89       726\n",
            "   macro avg       0.88      0.88      0.88       726\n",
            "weighted avg       0.89      0.89      0.89       726\n",
            "\n"
          ]
        }
      ],
      "source": [
        "print(classification_report(y_test, pred))"
      ]
    },
    {
      "cell_type": "code",
      "execution_count": null,
      "id": "becoming-isolation",
      "metadata": {
        "id": "becoming-isolation",
        "outputId": "34f49240-155b-4735-e28a-9eeb42e01f3c"
      },
      "outputs": [
        {
          "name": "stdout",
          "output_type": "stream",
          "text": [
            "[[234  46]\n",
            " [ 36 410]]\n"
          ]
        }
      ],
      "source": [
        "print(confusion_matrix(y_test, pred))"
      ]
    },
    {
      "cell_type": "code",
      "execution_count": null,
      "id": "current-aquatic",
      "metadata": {
        "id": "current-aquatic"
      },
      "outputs": [],
      "source": [
        ""
      ]
    }
  ],
  "metadata": {
    "kernelspec": {
      "display_name": "Python 3",
      "language": "python",
      "name": "python3"
    },
    "language_info": {
      "codemirror_mode": {
        "name": "ipython",
        "version": 3
      },
      "file_extension": ".py",
      "mimetype": "text/x-python",
      "name": "python",
      "nbconvert_exporter": "python",
      "pygments_lexer": "ipython3",
      "version": "3.6.9"
    },
    "colab": {
      "name": "Graduado_abandono.ipynb",
      "provenance": [],
      "include_colab_link": true
    }
  },
  "nbformat": 4,
  "nbformat_minor": 5
}